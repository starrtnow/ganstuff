{
 "cells": [
  {
   "cell_type": "code",
   "execution_count": 1,
   "metadata": {},
   "outputs": [],
   "source": [
    "from DCGAN.networks import Gen, Disc, weights_init\n",
    "from util import condense_range, expand_range, save, load\n",
    "import torch\n",
    "import torch.nn as nn\n",
    "from torch.autograd import Variable, grad\n",
    "import torch.functional as f\n",
    "import torchvision\n",
    "import time"
   ]
  },
  {
   "cell_type": "code",
   "execution_count": 2,
   "metadata": {},
   "outputs": [],
   "source": [
    "#parameters\n",
    "batch_size = 32\n",
    "n_epochs = 10000"
   ]
  },
  {
   "cell_type": "code",
   "execution_count": 3,
   "metadata": {},
   "outputs": [],
   "source": [
    "#Create Generator and Discriminator\n",
    "G = Gen()\n",
    "D = Disc(batch_size)\n",
    "\n",
    "weights_init(G)\n",
    "weights_init(D)\n",
    "\n",
    "G = G.cuda()\n",
    "D = D.cuda()\n",
    "\n",
    "opt_G = torch.optim.Adam(G.parameters(), lr = 0.0002, betas = (0.5, 0.999))\n",
    "opt_D = torch.optim.Adam(D.parameters(), lr = 0.0002, betas = (0.5, 0.999))\n",
    "criterion = nn.BCELoss()"
   ]
  },
  {
   "cell_type": "code",
   "execution_count": 4,
   "metadata": {},
   "outputs": [],
   "source": [
    "def gradient_penalty(x, f):\n",
    "    # interpolation\n",
    "    shape = [x.size(0)] + [1] * (x.dim() - 1)\n",
    "    alpha = (torch.rand(shape)).cuda()\n",
    "    beta = (torch.rand(x.size())).cuda()\n",
    "\n",
    "    y = x + 0.5 * x.std() * beta\n",
    "    z = x + alpha * (y - x)\n",
    "\n",
    "    # gradient penalty\n",
    "    z = (Variable(z, requires_grad=True)).cuda()\n",
    "    o = f(z)\n",
    "    g = grad(o, z, grad_outputs=(torch.ones(o.size())).cuda(), create_graph=True)[0].view(z.size(0), -1)\n",
    "    gp = ((g.norm(p=2, dim=1) - 1)**2).mean()\n",
    "\n",
    "    return gp"
   ]
  },
  {
   "cell_type": "code",
   "execution_count": 5,
   "metadata": {},
   "outputs": [],
   "source": [
    "#data\n",
    "data = torchvision.datasets.ImageFolder('./danbooru/data/d_chibi', transform = torchvision.transforms.ToTensor())\n",
    "loader = torch.utils.data.DataLoader(data, batch_size=batch_size, shuffle=True, drop_last=True)"
   ]
  },
  {
   "cell_type": "code",
   "execution_count": 6,
   "metadata": {},
   "outputs": [],
   "source": [
    "def sample(uid = \"\"):\n",
    "    noise = torch.randn(10, 100, 1, 1).cuda()\n",
    "    fake = condense_range(G(noise))\n",
    "    torchvision.utils.save_image(fake, \"./saved_images/{}.png\".format(uid))"
   ]
  },
  {
   "cell_type": "code",
   "execution_count": null,
   "metadata": {},
   "outputs": [
    {
     "name": "stdout",
     "output_type": "stream",
     "text": [
      "Discriminator loss:  tensor(1.4398, device='cuda:0')\n",
      "Generator Loss:  tensor(7.0311, device='cuda:0')\n"
     ]
    }
   ],
   "source": [
    "REAL = 1\n",
    "FAKE = 0\n",
    "CHECKPOINT = 50\n",
    "\n",
    "for n in range(0, n_epochs):\n",
    "    for img, _ in loader:\n",
    "        #Update D\n",
    "        D.zero_grad()\n",
    "        X = Variable(img).cuda()\n",
    "        \n",
    "        label = torch.full((batch_size, 1), REAL).cuda()\n",
    "        output = D(X)\n",
    "        err_real = criterion(output, label)\n",
    "        err_real.backward()\n",
    "        D_x = output.mean().item()\n",
    "        \n",
    "        #Train with fake\n",
    "        noise = torch.randn(batch_size, 100, 1, 1).cuda()\n",
    "        fake = condense_range(G(noise))\n",
    "        label = torch.full((batch_size, 1), FAKE).cuda()\n",
    "        output = D(fake.detach())\n",
    "        err_fake = criterion(output, label)\n",
    "        err_fake.backward()\n",
    "        D_g_x = output.mean().item()\n",
    "        \n",
    "        gp = gradient_penalty(X.data, D)\n",
    "        gp.backward()\n",
    "        \n",
    "        err_D = err_real + err_fake\n",
    "        opt_D.step()\n",
    "        \n",
    "        \n",
    "        \n",
    "        \n",
    "        #Update generator\n",
    "        G.zero_grad()\n",
    "        label = torch.full((batch_size, 1), REAL).cuda()\n",
    "        output = D(fake)\n",
    "        err_G = criterion(output, label)\n",
    "        err_G.backward()\n",
    "        D_g_z = output.mean().item()\n",
    "        opt_G.step()\n",
    "    if n % CHECKPOINT == 0:\n",
    "        #first print loss\n",
    "        print(\"Discriminator loss: \", err_D + gp)\n",
    "        print(\"Generator Loss: \", err_G)\n",
    "        \n",
    "        #save model\n",
    "        uid = time.time()\n",
    "        save(G, \"{}.gen\".format(uid))\n",
    "        save(D, \"{}.disc\".format(uid))\n",
    "        \n",
    "        #sample image\n",
    "        sample(uid)\n",
    "        \n",
    "        \n",
    "        \n",
    "    "
   ]
  },
  {
   "cell_type": "code",
   "execution_count": 12,
   "metadata": {},
   "outputs": [],
   "source": [
    "sample(\"hi\")"
   ]
  },
  {
   "cell_type": "code",
   "execution_count": null,
   "metadata": {
    "collapsed": true
   },
   "outputs": [],
   "source": []
  },
  {
   "cell_type": "code",
   "execution_count": null,
   "metadata": {
    "collapsed": true
   },
   "outputs": [],
   "source": []
  }
 ],
 "metadata": {
  "kernelspec": {
   "display_name": "Python 3",
   "language": "python",
   "name": "python3"
  },
  "language_info": {
   "codemirror_mode": {
    "name": "ipython",
    "version": 3
   },
   "file_extension": ".py",
   "mimetype": "text/x-python",
   "name": "python",
   "nbconvert_exporter": "python",
   "pygments_lexer": "ipython3",
   "version": "3.6.5"
  }
 },
 "nbformat": 4,
 "nbformat_minor": 2
}
